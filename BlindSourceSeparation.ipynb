{
  "nbformat": 4,
  "nbformat_minor": 0,
  "metadata": {
    "colab": {
      "name": "IreneGentilini (1).ipynb",
      "provenance": [],
      "collapsed_sections": [
        "mfeEqpQC_F8Q",
        "8qrCKS5mBSkm"
      ],
      "toc_visible": true
    },
    "kernelspec": {
      "name": "python3",
      "display_name": "Python 3"
    },
    "language_info": {
      "name": "python"
    },
    "accelerator": "GPU",
    "gpuClass": "standard"
  },
  "cells": [
    {
      "cell_type": "markdown",
      "source": [
        "TO CLARIFY\n",
        "\n",
        "THE MODEL TO BE EVALUATED IS THE ONE BUILT UNDER THE \"BEST MODEL\" SECTION OF THE NOTEBOOK, USING THE FUNCTION build_unet.\n",
        "\n",
        "THE SCORES ARE SHOWN UNDER THE \"FINAL SCORE\" SECTION OF THE NOTEBOOK."
      ],
      "metadata": {
        "id": "TYiUNYPTvA7J"
      }
    },
    {
      "cell_type": "markdown",
      "source": [
        "#Blind Source Separation - July 29th Exam\n",
        "**Task** \n",
        "\n",
        "The task consists in decomposing an image obtained as a sum of a two images img1 and img2 into its components.\n",
        "\n",
        "The network takes in input the sum img1+img2 and returns the predicted components hat_img1 and hat_img2.\n",
        "\n",
        "No preprocessing is allowed. \n",
        "\n",
        "**Data**\n",
        "\n",
        "The source images img1 and img2 come from different datasets: mnist and fashion_mnist, respectively.\n",
        "\n",
        "In this notebook you may find a trace, providing generators and examples.\n",
        "\n",
        "**Structure**\n",
        "\n",
        "Write a notebook explaining every step you take and DON'T clear the output of the cells when you submit it.  \n",
        "\n",
        "You may possibly discuss and provide results for more models, but at most a couple of them should be presented in the notebook.\n",
        "\n",
        "Make sure to test the model in order to prove robustness and lack of overfitting.\n",
        "\n",
        "The metric you will need to use to evaluate the results is the mean squared error between predicted and ground truth images.\n",
        "\n",
        "Evaluate the mse over 20000 samples randomly generated from the two test_sets.\n",
        "\n",
        "Repeat the computation 10 times and check the standard deviation, that should be very small.\n",
        "\n",
        "**Recommendation**\n",
        "\n",
        "Save the weights of your model and keep them until the discussion, we might ask you to provide them. "
      ],
      "metadata": {
        "id": "aZyu4x6eAHLB"
      }
    },
    {
      "cell_type": "code",
      "execution_count": null,
      "metadata": {
        "id": "PaIy83VW-3N5"
      },
      "outputs": [],
      "source": [
        "import tensorflow as tf\n",
        "from tensorflow.keras import layers\n",
        "from tensorflow.keras.datasets import mnist, fashion_mnist\n",
        "\n",
        "import numpy as np\n",
        "from matplotlib import pyplot as plt\n",
        "\n",
        "from tensorflow import keras as ks\n",
        "from tensorflow.keras.layers import Input, Dense, Flatten, Reshape, Conv2D, BatchNormalization, Activation, MaxPool2D, Conv2DTranspose, Concatenate\n",
        "from tensorflow.keras.models import Model\n",
        "from tensorflow.keras.layers import Dropout\n",
        "import os"
      ]
    },
    {
      "cell_type": "code",
      "source": [
        "(mnist_x_train, mnist_y_train), (mnist_x_test, mnist_y_test) = mnist.load_data()\n",
        "print(np.shape(mnist_x_train))\n",
        "(fashion_mnist_x_train, fashion_mnist_y_train), (fashion_mnist_x_test, fashion_mnist_y_test) = fashion_mnist.load_data()\n",
        "#normnalize in and pad\n",
        "mnist_x_train = np.pad(mnist_x_train,((0,0),(2,2),(2,2)))/255.\n",
        "print(np.shape(mnist_x_train))\n",
        "mnist_x_test = np.pad(mnist_x_test,((0,0),(2,2),(2,2)))/255.\n",
        "fashion_mnist_x_train = np.pad(fashion_mnist_x_train,((0,0),(2,2),(2,2)))/255.\n",
        "fashion_mnist_x_test = np.pad(fashion_mnist_x_test,((0,0),(2,2),(2,2)))/255."
      ],
      "metadata": {
        "colab": {
          "base_uri": "https://localhost:8080/"
        },
        "id": "RyO7Quv1-6_F",
        "outputId": "7366409c-d17a-40b7-babb-3100e0a0ced0"
      },
      "execution_count": null,
      "outputs": [
        {
          "output_type": "stream",
          "name": "stdout",
          "text": [
            "Downloading data from https://storage.googleapis.com/tensorflow/tf-keras-datasets/mnist.npz\n",
            "11493376/11490434 [==============================] - 0s 0us/step\n",
            "11501568/11490434 [==============================] - 0s 0us/step\n",
            "(60000, 28, 28)\n",
            "Downloading data from https://storage.googleapis.com/tensorflow/tf-keras-datasets/train-labels-idx1-ubyte.gz\n",
            "32768/29515 [=================================] - 0s 0us/step\n",
            "40960/29515 [=========================================] - 0s 0us/step\n",
            "Downloading data from https://storage.googleapis.com/tensorflow/tf-keras-datasets/train-images-idx3-ubyte.gz\n",
            "26427392/26421880 [==============================] - 0s 0us/step\n",
            "26435584/26421880 [==============================] - 0s 0us/step\n",
            "Downloading data from https://storage.googleapis.com/tensorflow/tf-keras-datasets/t10k-labels-idx1-ubyte.gz\n",
            "16384/5148 [===============================================================================================] - 0s 0us/step\n",
            "Downloading data from https://storage.googleapis.com/tensorflow/tf-keras-datasets/t10k-images-idx3-ubyte.gz\n",
            "4423680/4422102 [==============================] - 0s 0us/step\n",
            "4431872/4422102 [==============================] - 0s 0us/step\n",
            "(60000, 32, 32)\n"
          ]
        }
      ]
    },
    {
      "cell_type": "code",
      "source": [
        "print(np.shape(mnist_x_train))"
      ],
      "metadata": {
        "colab": {
          "base_uri": "https://localhost:8080/"
        },
        "id": "M3OyyxKn-8wO",
        "outputId": "6c1d67e5-1cf4-4074-ab11-34c701bd062e"
      },
      "execution_count": null,
      "outputs": [
        {
          "output_type": "stream",
          "name": "stdout",
          "text": [
            "(60000, 32, 32)\n"
          ]
        }
      ]
    },
    {
      "cell_type": "code",
      "source": [
        "def datagenerator(x1,x2,batchsize):\n",
        "    n1 = x1.shape[0]\n",
        "    n2 = x2.shape[0]\n",
        "    while True:\n",
        "        num1 = np.random.randint(0, n1, batchsize)\n",
        "        num2 = np.random.randint(0, n2, batchsize)\n",
        "\n",
        "        x_data = (x1[num1] + x2[num2]) / 2.0\n",
        "        y_data = np.concatenate((x1[num1], x2[num2]), axis=2)\n",
        "\n",
        "        yield x_data, y_data "
      ],
      "metadata": {
        "id": "H3hCqFYK-9od"
      },
      "execution_count": null,
      "outputs": []
    },
    {
      "cell_type": "code",
      "source": [
        "batchsize = 64\n",
        "inputShape = (32,32,1)"
      ],
      "metadata": {
        "id": "g1jPGH90--yQ"
      },
      "execution_count": null,
      "outputs": []
    },
    {
      "cell_type": "code",
      "source": [
        "train_generator = datagenerator(mnist_x_train,fashion_mnist_x_train,batchsize)\n",
        "val_generator = datagenerator(mnist_x_train,fashion_mnist_x_train,batchsize)\n",
        "test_generator = datagenerator(mnist_x_test,fashion_mnist_x_test,batchsize)\n",
        "\n",
        "#train_generator = datagenerator(mnist_x_train,fashion_mnist_x_train,1)\n",
        "#val_generator = datagenerator(mnist_x_train,fashion_mnist_x_train,1)\n",
        "test_generator1 = datagenerator(mnist_x_test,fashion_mnist_x_test,1)"
      ],
      "metadata": {
        "id": "TA6iPPR_-_sl"
      },
      "execution_count": null,
      "outputs": []
    },
    {
      "cell_type": "code",
      "source": [
        "x, y = next(train_generator)\n",
        "plt.imshow(x[0],cmap='gray', interpolation='nearest')\n",
        "plt.show()\n",
        "plt.imshow(y[0], cmap='gray', interpolation='nearest')\n",
        "plt.show()\n",
        "print(x[0].shape)\n",
        "print(y.shape)"
      ],
      "metadata": {
        "colab": {
          "base_uri": "https://localhost:8080/",
          "height": 501
        },
        "id": "Yzgux0kP_A1n",
        "outputId": "0f22a0d5-a24d-4f8a-dfaf-63cd1e744b39"
      },
      "execution_count": null,
      "outputs": [
        {
          "output_type": "display_data",
          "data": {
            "text/plain": [
              "<Figure size 432x288 with 1 Axes>"
            ],
            "image/png": "[encoded data removed]"
          },
          "metadata": {
            "needs_background": "light"
          }
        },
        {
          "output_type": "display_data",
          "data": {
            "text/plain": [
              "<Figure size 432x288 with 1 Axes>"
            ],
            "image/png": "[encoded data removed]"
          },
          "metadata": {
            "needs_background": "light"
          }
        },
        {
          "output_type": "stream",
          "name": "stdout",
          "text": [
            "(32, 32)\n",
            "(64, 32, 64)\n"
          ]
        }
      ]
    },
    {
      "cell_type": "code",
      "source": [
        "input_shape = (32, 32, 1)\n",
        "learning_rate = 1e-3"
      ],
      "metadata": {
        "id": "q2uAnmIH_CM8"
      },
      "execution_count": null,
      "outputs": []
    },
    {
      "cell_type": "markdown",
      "source": [
        "#my code"
      ],
      "metadata": {
        "id": "Z2fxlElTAbIQ"
      }
    },
    {
      "cell_type": "markdown",
      "source": [
        "My immediate idea was to use a unet.\n",
        "I found a paper talking about semi siamese unets, which are basic unets, in which the upsampling part is split into two, in order to generate two different images that are then concatenated into one.\n",
        "The paper in question is: https://www.ncbi.nlm.nih.gov/pmc/articles/PMC7853495/\n",
        "\n",
        "\n",
        "I applied that basic idea, and obtained good results. \n",
        "\n",
        "\n",
        "After that i tried to improve my model, by adding some layers. This gave me some better results, so this final model is my best model.\n",
        "Hence the model built using the function **build_unet**, called **unet_model**, is the one to be evaluated\n",
        "\n",
        "\n",
        "**SEMI-SIAMESE MODEL** section -> original idea\n",
        "\n",
        "**BEST MODEL** section -> improved model, which is my BEST ONE\n",
        "\n",
        "in the section **final score** i show my final results"
      ],
      "metadata": {
        "id": "ZKBTqlSlAUV4"
      }
    },
    {
      "cell_type": "markdown",
      "source": [
        "#semi-siamese model"
      ],
      "metadata": {
        "id": "mfeEqpQC_F8Q"
      }
    },
    {
      "cell_type": "markdown",
      "source": [
        "**the model**\n",
        "\n",
        "this model is like a basic unet, but the difference from it stands in the upsampling part. In the downsampling part there is only one encoder, while in the upsampling part there are two decoders. This way the net is fed one single 32x32 image, and it produces two 32x32 images, which are then concatnated at the last layer of the network to produce a 32x64 image, which is then compared to the ground truth."
      ],
      "metadata": {
        "id": "mmFTo_W__Uj9"
      }
    },
    {
      "cell_type": "code",
      "source": [
        "def build_semi_siamese(input_shape, n_ch=32, L=4, conv_per_L=2):\n",
        "  x = ks.layers.Input(shape=input_shape)\n",
        "\n",
        "  backup_layers = []\n",
        "  h = x\n",
        "\n",
        "  for l in range(L):\n",
        "    for c in range(conv_per_L):\n",
        "      h = ks.layers.Conv2D(n_ch, 3, 1, padding='same')(h)\n",
        "      h = ks.layers.ReLU()(h)\n",
        "\n",
        "    if l < L-1: # We don't want to downsample at the last level\n",
        "            # Downsample\n",
        "      backup_layers.append(h) # save for the skip connection \n",
        "      h = ks.layers.MaxPool2D(padding='same')(h)\n",
        "      \n",
        "            # Update the channels\n",
        "      n_ch = n_ch * 2\n",
        " \n",
        "  h1 = h\n",
        "  h2 = h\n",
        "\n",
        "   # UP (pay attention to do not double count the last level)\n",
        "  for l in range(L-1):\n",
        "        # Reduce the channels\n",
        "      n_ch = n_ch // 2\n",
        "\n",
        "        # Upsample\n",
        "      h1 = ks.layers.Conv2DTranspose(n_ch, 3, 2, padding='same')(h1)\n",
        "      h2 = ks.layers.Conv2DTranspose(n_ch, 3, 2, padding='same')(h2)\n",
        "\n",
        "\n",
        "        # Concatenate\n",
        "      \n",
        "      b = backup_layers.pop(-1)\n",
        "\n",
        "      h1 = ks.layers.concatenate([h1, b])\n",
        "      h2 = ks.layers.concatenate([h2, b])\n",
        "      \n",
        "        # Each floor in the up phase\n",
        "      for c in range(conv_per_L):\n",
        "          h1 = ks.layers.Conv2D(n_ch, 3, 1, padding='same')(h1)\n",
        "          h1 = ks.layers.ReLU()(h1)\n",
        "\n",
        "          h2 = ks.layers.Conv2D(n_ch, 3, 1, padding='same')(h2)\n",
        "          h2 = ks.layers.ReLU()(h2)\n",
        "\n",
        "   # Output\n",
        "  y1 = ks.layers.Conv2D(1, 1, activation='sigmoid')(h1)\n",
        "  y2 = ks.layers.Conv2D(1, 1, activation='sigmoid')(h2)\n",
        "\n",
        "  y = ks.layers.concatenate([y1, y2], axis=2)\n",
        "\n",
        "  return ks.models.Model(x, y)"
      ],
      "metadata": {
        "id": "fvMPjyBd_Igg"
      },
      "execution_count": null,
      "outputs": []
    },
    {
      "cell_type": "code",
      "source": [
        "semi_siamese = build_semi_siamese(input_shape)"
      ],
      "metadata": {
        "id": "9WvjvFwC_J-U"
      },
      "execution_count": null,
      "outputs": []
    },
    {
      "cell_type": "code",
      "source": [
        "semi_siamese.compile(optimizer=ks.optimizers.Adam(learning_rate=learning_rate),\n",
        "                  loss = 'binary_crossentropy',\n",
        "                  metrics=['mse'])"
      ],
      "metadata": {
        "id": "Zhs5m_fn_K8Q"
      },
      "execution_count": null,
      "outputs": []
    },
    {
      "cell_type": "markdown",
      "source": [
        "**training**\n",
        "\n",
        "in using 3000 steps_per_epochs and a batch size of 64 (given by the data generator), it is like using 192000 images, which exploits the two datasets to their full potential, without weighing too much on the ram."
      ],
      "metadata": {
        "id": "S7o-_baf_WBj"
      }
    },
    {
      "cell_type": "code",
      "source": [
        "N_EPOCHS = 50\n",
        "STEPS_PER_EPOCH = 3000\n",
        "VALIDATION_STEPS = 300\n",
        "\n",
        "monitor = 'val_mse'\n",
        "working_dir = 'semiSiamese'\n",
        "checkpoint_dir = os.path.join(working_dir, 'ckpt')\n",
        "if not os.path.exists(checkpoint_dir):\n",
        "    os.makedirs(checkpoint_dir)\n",
        "checkpoint_filepath = os.path.join(checkpoint_dir, 'bestweightsSiamese.h5')\n",
        "\n",
        "#early_stopping_callback = ks.callbacks.EarlyStopping(monitor=monitor, patience=5, verbose=1, mode='min', restore_best_weights=True)\n",
        "#reduce_on_plateau_callback = ks.callbacks.ReduceLROnPlateau(monitor='loss', min_lr=1e-5, factor=0.5, patience=3, verbose=1, mode='min')\n",
        "model_checkpoint_callback = tf.keras.callbacks.ModelCheckpoint(filepath=checkpoint_filepath, monitor=monitor, mode='min', save_weights_only=True, save_best_only=True)\n",
        "\n",
        "callbacks = [\n",
        "    #reduce_on_plateau_callback,\n",
        "    #early_stopping_callback,\n",
        "    model_checkpoint_callback,\n",
        "]\n",
        "\n",
        "# Training\n",
        "#unet_model.load_weights(\"unet_semi_siamese_weights.h5\")\n",
        "\n",
        "history_semi_siamese = semi_siamese.fit(train_generator, validation_data = val_generator,\n",
        "              epochs=N_EPOCHS,\n",
        "              steps_per_epoch = STEPS_PER_EPOCH,\n",
        "              validation_steps = VALIDATION_STEPS,\n",
        "              callbacks = callbacks)"
      ],
      "metadata": {
        "colab": {
          "base_uri": "https://localhost:8080/"
        },
        "id": "K5JtHEPW_L0a",
        "outputId": "7cead41f-cdf4-4ccd-a984-7941e6b86874"
      },
      "execution_count": null,
      "outputs": [
        {
          "output_type": "stream",
          "name": "stdout",
          "text": [
            "Epoch 1/50\n",
            "3000/3000 [==============================] - 91s 26ms/step - loss: 0.1283 - mse: 0.0041 - val_loss: 0.1201 - val_mse: 0.0015\n",
            "Epoch 2/50\n",
            "3000/3000 [==============================] - 77s 26ms/step - loss: 0.1192 - mse: 0.0013 - val_loss: 0.1190 - val_mse: 0.0011\n",
            "Epoch 3/50\n",
            "3000/3000 [==============================] - 77s 26ms/step - loss: 0.1183 - mse: 0.0010 - val_loss: 0.1185 - val_mse: 9.1387e-04\n",
            "Epoch 4/50\n",
            "3000/3000 [==============================] - 80s 27ms/step - loss: 0.1178 - mse: 8.9929e-04 - val_loss: 0.1176 - val_mse: 9.1457e-04\n",
            "Epoch 5/50\n",
            "3000/3000 [==============================] - 77s 26ms/step - loss: 0.1175 - mse: 8.1806e-04 - val_loss: 0.1179 - val_mse: 7.5733e-04\n",
            "Epoch 6/50\n",
            "3000/3000 [==============================] - 79s 26ms/step - loss: 0.1175 - mse: 7.8734e-04 - val_loss: 0.1171 - val_mse: 7.8213e-04\n",
            "Epoch 7/50\n",
            "3000/3000 [==============================] - 77s 26ms/step - loss: 0.1174 - mse: 7.7002e-04 - val_loss: 0.1170 - val_mse: 7.7291e-04\n",
            "Epoch 8/50\n",
            "3000/3000 [==============================] - 77s 26ms/step - loss: 0.1171 - mse: 7.4154e-04 - val_loss: 0.1166 - val_mse: 7.3478e-04\n",
            "Epoch 9/50\n",
            "3000/3000 [==============================] - 77s 26ms/step - loss: 0.1171 - mse: 7.1693e-04 - val_loss: 0.1172 - val_mse: 6.8779e-04\n",
            "Epoch 10/50\n",
            "3000/3000 [==============================] - 77s 26ms/step - loss: 0.1169 - mse: 7.0264e-04 - val_loss: 0.1171 - val_mse: 6.7793e-04\n",
            "Epoch 11/50\n",
            "3000/3000 [==============================] - 77s 26ms/step - loss: 0.1170 - mse: 6.7363e-04 - val_loss: 0.1175 - val_mse: 6.7881e-04\n",
            "Epoch 12/50\n",
            "3000/3000 [==============================] - 77s 26ms/step - loss: 0.1168 - mse: 6.6177e-04 - val_loss: 0.1168 - val_mse: 6.4194e-04\n",
            "Epoch 13/50\n",
            "3000/3000 [==============================] - 77s 26ms/step - loss: 0.1168 - mse: 6.6699e-04 - val_loss: 0.1170 - val_mse: 6.5969e-04\n",
            "Epoch 14/50\n",
            "3000/3000 [==============================] - 77s 26ms/step - loss: 0.1168 - mse: 6.4949e-04 - val_loss: 0.1167 - val_mse: 6.1016e-04\n",
            "Epoch 15/50\n",
            "3000/3000 [==============================] - 77s 26ms/step - loss: 0.1168 - mse: 6.3646e-04 - val_loss: 0.1169 - val_mse: 6.3131e-04\n",
            "Epoch 16/50\n",
            "3000/3000 [==============================] - 77s 26ms/step - loss: 0.1169 - mse: 6.3137e-04 - val_loss: 0.1169 - val_mse: 6.4521e-04\n",
            "Epoch 17/50\n",
            "3000/3000 [==============================] - 77s 26ms/step - loss: 0.1169 - mse: 6.2982e-04 - val_loss: 0.1164 - val_mse: 6.0518e-04\n",
            "Epoch 18/50\n",
            "3000/3000 [==============================] - 77s 26ms/step - loss: 0.1169 - mse: 6.3209e-04 - val_loss: 0.1170 - val_mse: 5.9387e-04\n",
            "Epoch 19/50\n",
            "3000/3000 [==============================] - 77s 26ms/step - loss: 0.1167 - mse: 6.0972e-04 - val_loss: 0.1169 - val_mse: 6.0793e-04\n",
            "Epoch 20/50\n",
            "3000/3000 [==============================] - 77s 26ms/step - loss: 0.1164 - mse: 6.0930e-04 - val_loss: 0.1171 - val_mse: 6.0307e-04\n",
            "Epoch 21/50\n",
            "3000/3000 [==============================] - 77s 26ms/step - loss: 0.1167 - mse: 6.0291e-04 - val_loss: 0.1164 - val_mse: 5.7809e-04\n",
            "Epoch 22/50\n",
            "3000/3000 [==============================] - 77s 26ms/step - loss: 0.1166 - mse: 6.0655e-04 - val_loss: 0.1168 - val_mse: 5.7629e-04\n",
            "Epoch 23/50\n",
            "3000/3000 [==============================] - 76s 25ms/step - loss: 0.1164 - mse: 5.8788e-04 - val_loss: 0.1166 - val_mse: 5.7917e-04\n",
            "Epoch 24/50\n",
            "3000/3000 [==============================] - 77s 26ms/step - loss: 0.1165 - mse: 5.9118e-04 - val_loss: 0.1161 - val_mse: 5.6367e-04\n",
            "Epoch 25/50\n",
            "3000/3000 [==============================] - 77s 26ms/step - loss: 0.1165 - mse: 5.7859e-04 - val_loss: 0.1169 - val_mse: 5.6163e-04\n",
            "Epoch 26/50\n",
            "3000/3000 [==============================] - 77s 26ms/step - loss: 0.1166 - mse: 5.8079e-04 - val_loss: 0.1158 - val_mse: 5.6886e-04\n",
            "Epoch 27/50\n",
            "3000/3000 [==============================] - 80s 27ms/step - loss: 0.1166 - mse: 5.7630e-04 - val_loss: 0.1161 - val_mse: 5.5282e-04\n",
            "Epoch 28/50\n",
            "3000/3000 [==============================] - 77s 26ms/step - loss: 0.1165 - mse: 5.7452e-04 - val_loss: 0.1164 - val_mse: 5.9382e-04\n",
            "Epoch 29/50\n",
            "3000/3000 [==============================] - 77s 26ms/step - loss: 0.1166 - mse: 5.6356e-04 - val_loss: 0.1166 - val_mse: 5.6703e-04\n",
            "Epoch 30/50\n",
            "3000/3000 [==============================] - 77s 26ms/step - loss: 0.1165 - mse: 5.6292e-04 - val_loss: 0.1166 - val_mse: 5.9194e-04\n",
            "Epoch 31/50\n",
            "3000/3000 [==============================] - 77s 26ms/step - loss: 0.1166 - mse: 5.6360e-04 - val_loss: 0.1168 - val_mse: 5.6240e-04\n",
            "Epoch 32/50\n",
            "3000/3000 [==============================] - 77s 26ms/step - loss: 0.1166 - mse: 5.6044e-04 - val_loss: 0.1164 - val_mse: 5.6250e-04\n",
            "Epoch 33/50\n",
            "3000/3000 [==============================] - 77s 26ms/step - loss: 0.1166 - mse: 5.5883e-04 - val_loss: 0.1167 - val_mse: 5.5765e-04\n",
            "Epoch 34/50\n",
            "3000/3000 [==============================] - 77s 26ms/step - loss: 0.1165 - mse: 5.4952e-04 - val_loss: 0.1166 - val_mse: 5.3492e-04\n",
            "Epoch 35/50\n",
            "3000/3000 [==============================] - 77s 26ms/step - loss: 0.1164 - mse: 5.5651e-04 - val_loss: 0.1170 - val_mse: 5.4847e-04\n",
            "Epoch 36/50\n",
            "3000/3000 [==============================] - 77s 26ms/step - loss: 0.1165 - mse: 5.4606e-04 - val_loss: 0.1165 - val_mse: 5.4307e-04\n",
            "Epoch 37/50\n",
            "3000/3000 [==============================] - 77s 26ms/step - loss: 0.1165 - mse: 5.4738e-04 - val_loss: 0.1159 - val_mse: 5.3712e-04\n",
            "Epoch 38/50\n",
            "3000/3000 [==============================] - 77s 26ms/step - loss: 0.1164 - mse: 5.4337e-04 - val_loss: 0.1164 - val_mse: 5.3856e-04\n",
            "Epoch 39/50\n",
            "3000/3000 [==============================] - 77s 26ms/step - loss: 0.1163 - mse: 5.3998e-04 - val_loss: 0.1161 - val_mse: 5.3909e-04\n",
            "Epoch 40/50\n",
            "3000/3000 [==============================] - 77s 26ms/step - loss: 0.1165 - mse: 5.4260e-04 - val_loss: 0.1167 - val_mse: 5.1884e-04\n",
            "Epoch 41/50\n",
            "3000/3000 [==============================] - 77s 26ms/step - loss: 0.1164 - mse: 5.3444e-04 - val_loss: 0.1163 - val_mse: 5.3456e-04\n",
            "Epoch 42/50\n",
            "3000/3000 [==============================] - 77s 26ms/step - loss: 0.1164 - mse: 5.3990e-04 - val_loss: 0.1170 - val_mse: 5.2527e-04\n",
            "Epoch 43/50\n",
            "3000/3000 [==============================] - 77s 26ms/step - loss: 0.1164 - mse: 5.3494e-04 - val_loss: 0.1164 - val_mse: 5.2173e-04\n",
            "Epoch 44/50\n",
            "3000/3000 [==============================] - 77s 26ms/step - loss: 0.1163 - mse: 5.3501e-04 - val_loss: 0.1158 - val_mse: 5.3815e-04\n",
            "Epoch 45/50\n",
            "3000/3000 [==============================] - 76s 25ms/step - loss: 0.1163 - mse: 5.3084e-04 - val_loss: 0.1164 - val_mse: 5.7317e-04\n",
            "Epoch 46/50\n",
            "3000/3000 [==============================] - 77s 26ms/step - loss: 0.1163 - mse: 5.3439e-04 - val_loss: 0.1165 - val_mse: 5.3436e-04\n",
            "Epoch 47/50\n",
            "3000/3000 [==============================] - 77s 26ms/step - loss: 0.1164 - mse: 5.2706e-04 - val_loss: 0.1164 - val_mse: 5.3161e-04\n",
            "Epoch 48/50\n",
            "3000/3000 [==============================] - 77s 26ms/step - loss: 0.1165 - mse: 5.3259e-04 - val_loss: 0.1165 - val_mse: 5.1833e-04\n",
            "Epoch 49/50\n",
            "3000/3000 [==============================] - 77s 26ms/step - loss: 0.1164 - mse: 5.3024e-04 - val_loss: 0.1165 - val_mse: 5.2871e-04\n",
            "Epoch 50/50\n",
            "3000/3000 [==============================] - 77s 26ms/step - loss: 0.1163 - mse: 5.3260e-04 - val_loss: 0.1157 - val_mse: 5.2350e-04\n"
          ]
        }
      ]
    },
    {
      "cell_type": "code",
      "source": [
        "semi_siamese.save_weights(\"unet_semi_siamese_weights.h5\")\n",
        "semi_siamese.save(\"unet_semi_siamese.h5\")"
      ],
      "metadata": {
        "id": "1nd35m1KL_dy"
      },
      "execution_count": null,
      "outputs": []
    },
    {
      "cell_type": "code",
      "source": [
        "def display_history(history):\n",
        "    mse_training = history.history['loss']\n",
        "    acc_training = history.history['mse']\n",
        "\n",
        "    mse_val = history.history['val_loss']\n",
        "    acc_val = history.history['val_mse']\n",
        "\n",
        " # Visualize the behavior of the loss\n",
        "    plt.plot(mse_training)\n",
        "    plt.plot(mse_val)\n",
        "    plt.grid()\n",
        "    plt.title('Loss during training')\n",
        "    plt.xlabel('Epoch')\n",
        "    plt.legend(['Training', 'Validation'])\n",
        "    plt.show()\n",
        "\n",
        "    # and of the accuracy\n",
        "    plt.plot(acc_training)\n",
        "    plt.plot(acc_val)\n",
        "    plt.grid()\n",
        "    plt.title('Accuracy during training')\n",
        "    plt.xlabel('Epoch')\n",
        "    plt.legend(['Training', 'Validation'])\n",
        "    plt.show()"
      ],
      "metadata": {
        "id": "KY7VtptU_ota"
      },
      "execution_count": null,
      "outputs": []
    },
    {
      "cell_type": "code",
      "source": [
        "display_history(history_semi_siamese)"
      ],
      "metadata": {
        "colab": {
          "base_uri": "https://localhost:8080/",
          "height": 573
        },
        "id": "cmZ1d-c__OA2",
        "outputId": "7a3de41d-d248-48c7-a183-472b5984c6d5"
      },
      "execution_count": null,
      "outputs": [
        {
          "output_type": "display_data",
          "data": {
            "text/plain": [
              "<Figure size 432x288 with 1 Axes>"
            ],
            "image/png": "[encoded data removed]"
          },
          "metadata": {
            "needs_background": "light"
          }
        },
        {
          "output_type": "display_data",
          "data": {
            "text/plain": [
              "<Figure size 432x288 with 1 Axes>"
            ],
            "image/png": "[encoded data removed]"
          },
          "metadata": {
            "needs_background": "light"
          }
        }
      ]
    },
    {
      "cell_type": "markdown",
      "source": [
        "**evaluation**\n",
        "\n",
        "the model_checkpoint_callback is utilized to load the best weights of the training into the model before doing the evaluation."
      ],
      "metadata": {
        "id": "qg1RXKeP_StI"
      }
    },
    {
      "cell_type": "code",
      "source": [
        "semi_siamese.load_weights(\"semiSiamese/ckpt/bestweightsSiamese.h5\")\n",
        "scores = semi_siamese.evaluate(test_generator, steps = 315)\n",
        "print(scores[1])"
      ],
      "metadata": {
        "colab": {
          "base_uri": "https://localhost:8080/"
        },
        "id": "0-KbZUuL_PMa",
        "outputId": "a1f1a2c5-1adf-47fb-8c88-d8b628aab152"
      },
      "execution_count": null,
      "outputs": [
        {
          "output_type": "stream",
          "name": "stdout",
          "text": [
            "315/315 [==============================] - 3s 10ms/step - loss: 0.1172 - mse: 5.2296e-04\n",
            "0.0005229554953984916\n"
          ]
        }
      ]
    },
    {
      "cell_type": "code",
      "source": [
        "mse_arr = np.zeros(10)\n",
        "\n",
        "for i in range(10):\n",
        "  scores = semi_siamese.evaluate(test_generator, steps = 315)\n",
        "  print(scores[1])\n",
        "  mse_arr[i] = scores[1]"
      ],
      "metadata": {
        "colab": {
          "base_uri": "https://localhost:8080/"
        },
        "id": "oN4MVdT0_QJL",
        "outputId": "68b1a3a4-2e34-4c0a-d9bc-9e5b2f8f5df6"
      },
      "execution_count": null,
      "outputs": [
        {
          "output_type": "stream",
          "name": "stdout",
          "text": [
            "315/315 [==============================] - 3s 10ms/step - loss: 0.1169 - mse: 5.1727e-04\n",
            "0.0005172655219212174\n",
            "315/315 [==============================] - 3s 10ms/step - loss: 0.1171 - mse: 5.2084e-04\n",
            "0.0005208438960835338\n",
            "315/315 [==============================] - 3s 10ms/step - loss: 0.1169 - mse: 5.2490e-04\n",
            "0.0005248956731520593\n",
            "315/315 [==============================] - 3s 10ms/step - loss: 0.1170 - mse: 5.2175e-04\n",
            "0.0005217542056925595\n",
            "315/315 [==============================] - 3s 11ms/step - loss: 0.1174 - mse: 5.3091e-04\n",
            "0.0005309077096171677\n",
            "315/315 [==============================] - 3s 10ms/step - loss: 0.1168 - mse: 5.2060e-04\n",
            "0.000520598201546818\n",
            "315/315 [==============================] - 3s 10ms/step - loss: 0.1170 - mse: 5.1169e-04\n",
            "0.0005116933025419712\n",
            "315/315 [==============================] - 3s 10ms/step - loss: 0.1169 - mse: 5.1533e-04\n",
            "0.0005153315141797066\n",
            "315/315 [==============================] - 3s 10ms/step - loss: 0.1170 - mse: 5.1638e-04\n",
            "0.0005163801833987236\n",
            "315/315 [==============================] - 3s 10ms/step - loss: 0.1166 - mse: 5.1537e-04\n",
            "0.0005153740639798343\n"
          ]
        }
      ]
    },
    {
      "cell_type": "code",
      "source": [
        "standard_deviation=np.std(mse_arr, dtype=np.double) \n",
        "print(\"standard deviation: \", standard_deviation)\n",
        "mean = np.mean(mse_arr, dtype=np.float32)\n",
        "print(\"mean: \", mean)"
      ],
      "metadata": {
        "colab": {
          "base_uri": "https://localhost:8080/"
        },
        "id": "-J3LuokG_RIO",
        "outputId": "19daf168-c9c8-4015-b45b-e9a658d8f073"
      },
      "execution_count": null,
      "outputs": [
        {
          "output_type": "stream",
          "name": "stdout",
          "text": [
            "standard deviation:  5.2669988920109855e-06\n",
            "mean:  0.0005195044\n"
          ]
        }
      ]
    },
    {
      "cell_type": "code",
      "source": [
        "test_size = 2\n",
        "x_test = np.zeros([test_size, 32, 32])\n",
        "y_test = np.zeros([test_size, 32, 64])\n",
        "for j in range(test_size) :\n",
        "  x_test[j], y_test[j] = next(test_generator1)\n",
        "  y_pred = semi_siamese.predict(x_test)"
      ],
      "metadata": {
        "id": "nr2Jx_sY_Y02"
      },
      "execution_count": null,
      "outputs": []
    },
    {
      "cell_type": "code",
      "source": [
        "def show(x, y, title=None):\n",
        "    plt.figure(figsize=(10, 5))\n",
        "\n",
        "    plt.subplot(1, 2, 1)\n",
        "    plt.imshow(x, cmap='gray')\n",
        "    if title:\n",
        "        plt.title(title[0])\n",
        "    \n",
        "    plt.subplot(1, 2, 2)\n",
        "    plt.imshow(y,cmap='gray')\n",
        "    if title:\n",
        "        plt.title(title[1])\n",
        "\n",
        "    plt.show()"
      ],
      "metadata": {
        "id": "eMvddhqX_u8-"
      },
      "execution_count": null,
      "outputs": []
    },
    {
      "cell_type": "code",
      "source": [
        "y_pred = semi_siamese.predict(x_test[:1])\n",
        "\n",
        "show(x_test[0, :, :], y_test[0, :, :], title='Original')\n",
        "show(x_test[0, :, :], y_pred[0, :, :, 0], title='Predicted')"
      ],
      "metadata": {
        "colab": {
          "base_uri": "https://localhost:8080/",
          "height": 619
        },
        "id": "qfypZPDN_Z8E",
        "outputId": "3d0c6cb2-8a09-4520-b362-314523473380"
      },
      "execution_count": null,
      "outputs": [
        {
          "output_type": "display_data",
          "data": {
            "text/plain": [
              "<Figure size 720x360 with 2 Axes>"
            ],
            "image/png": "[encoded data removed]"
          },
          "metadata": {
            "needs_background": "light"
          }
        },
        {
          "output_type": "display_data",
          "data": {
            "text/plain": [
              "<Figure size 720x360 with 2 Axes>"
            ],
            "image/png": "[encoded data removed]"
          },
          "metadata": {
            "needs_background": "light"
          }
        }
      ]
    },
    {
      "cell_type": "markdown",
      "source": [
        "#BEST MODEL"
      ],
      "metadata": {
        "id": "Qt59rRhr_c3t"
      }
    },
    {
      "cell_type": "markdown",
      "source": [
        "**the model**\n",
        "\n",
        "this model is similar to the semi_siamese one, as there are two parts in the upsampling aspect of the model. This allows the model to produce two 32x32 images from a single one, and these two images are then concatenated into a 32x64 one which is then compared to the ground truth.\n",
        "\n",
        "The difference from the semi_siamese model, is that there are some additional layers, and that the basic structure is slightly different since the parameter L is now 3 instead of 4, and conv_per_L is now 3 instead of 2. \n",
        "In every for cycle there are now 2 convolutional layers, and after the maxpool operation there is an additional dropout layer to avoid overfitting, an additional ReLU layer and a batch normalization layer.\n",
        "In the upsampling layer, aside from the fact that the signal has become two separate signals, there is an extra batch normalization layer for each of them\n",
        "\n",
        "THIS IS THE MODEL TO BE EVALUATED"
      ],
      "metadata": {
        "id": "L-IX7m7U_eym"
      }
    },
    {
      "cell_type": "code",
      "source": [
        "def build_unet(input_shape, n_ch=32, L=3, conv_per_L=3):  #33\n",
        "  x = ks.layers.Input(shape=input_shape)\n",
        "\n",
        "  backup_layers = []\n",
        "  h = x\n",
        "\n",
        "  for l in range(L):\n",
        "    for c in range(conv_per_L):\n",
        "      h = ks.layers.Conv2D(n_ch, 3, 1, padding='same')(h)\n",
        "      h = ks.layers.ReLU()(h)\n",
        "      h = ks.layers.Conv2D(n_ch, 3, 1, padding='same')(h)\n",
        "\n",
        "    if l < L-1: # We don't want to downsample at the last level\n",
        "            # Downsample\n",
        "      backup_layers.append(h) # save for the skip connection \n",
        "      h = ks.layers.MaxPool2D(padding='same')(h)\n",
        "      h = Dropout(.2)(h)\n",
        "      h = ks.layers.ReLU()(h)\n",
        "      h = ks.layers.BatchNormalization()(h)\n",
        "      \n",
        "            # Update the channels\n",
        "      n_ch = n_ch * 2\n",
        " \n",
        "  h1 = h\n",
        "  h2 = h\n",
        "\n",
        "   # UP (pay attention to do not double count the last level)\n",
        "  for l in range(L-1):\n",
        "        # Reduce the channels\n",
        "      n_ch = n_ch // 2\n",
        "\n",
        "        # Upsample\n",
        "      h1 = ks.layers.Conv2DTranspose(n_ch, 3, 2, padding='same')(h1)\n",
        "      h2 = ks.layers.Conv2DTranspose(n_ch, 3, 2, padding='same')(h2)\n",
        "\n",
        "\n",
        "        # Concatenate\n",
        "      \n",
        "      b = backup_layers.pop(-1)\n",
        "\n",
        "      h1 = ks.layers.concatenate([h1, b])\n",
        "      h2 = ks.layers.concatenate([h2, b])\n",
        "      \n",
        "        # Each floor in the up phase\n",
        "      for c in range(conv_per_L):\n",
        "          h1 = ks.layers.Conv2D(n_ch, 3, 1, padding='same')(h1)\n",
        "          h1 = ks.layers.ReLU()(h1)\n",
        "          h1 = ks.layers.BatchNormalization()(h1)\n",
        "\n",
        "          h2 = ks.layers.Conv2D(n_ch, 3, 1, padding='same')(h2)\n",
        "          h2 = ks.layers.ReLU()(h2)\n",
        "          h2 = ks.layers.BatchNormalization()(h2)\n",
        "\n",
        "   # Output\n",
        "  y1 = ks.layers.Conv2D(1, 1, activation='sigmoid')(h1)\n",
        "  y2 = ks.layers.Conv2D(1, 1, activation='sigmoid')(h2)\n",
        "\n",
        "  y = ks.layers.concatenate([y1, y2], axis=2)\n",
        "\n",
        "  return ks.models.Model(x, y)"
      ],
      "metadata": {
        "id": "Uu_j5Afy_cT8"
      },
      "execution_count": null,
      "outputs": []
    },
    {
      "cell_type": "code",
      "source": [
        "unet_model = build_unet(input_shape)"
      ],
      "metadata": {
        "id": "UVjxWCGY_iO1"
      },
      "execution_count": null,
      "outputs": []
    },
    {
      "cell_type": "code",
      "source": [
        "unet_model.compile(optimizer=ks.optimizers.Adam(learning_rate=learning_rate),\n",
        "                  loss = 'binary_crossentropy',\n",
        "                  metrics=['mse'])"
      ],
      "metadata": {
        "id": "_n3G2xf6_jPU"
      },
      "execution_count": null,
      "outputs": []
    },
    {
      "cell_type": "markdown",
      "source": [
        "**training**\n",
        "\n",
        "in using 3000 steps_per_epochs and a batch size of 64 (given by the data generator), it is like using 192000 images, which exploits the two datasets to their full potential, without weighing too much on the ram.\n",
        "\n",
        "the model checkpoint callback is used to save the best weights obtained by the training in order to load them onto the model before the evaluation"
      ],
      "metadata": {
        "id": "NY8WlLoW_lDl"
      }
    },
    {
      "cell_type": "code",
      "source": [
        "N_EPOCHS = 50\n",
        "STEPS_PER_EPOCH = 3000\n",
        "VALIDATION_STEPS = 300\n",
        "\n",
        "monitor = 'val_mse'\n",
        "working_dir = 'bestunet'\n",
        "checkpoint_dir = os.path.join(working_dir, 'ckpt')\n",
        "if not os.path.exists(checkpoint_dir):\n",
        "    os.makedirs(checkpoint_dir)\n",
        "checkpoint_filepath = os.path.join(checkpoint_dir, 'bestweights.h5')\n",
        "\n",
        "#early_stopping_callback = ks.callbacks.EarlyStopping(monitor=monitor, patience=5, verbose=1, mode='min', restore_best_weights=True)\n",
        "#reduce_on_plateau_callback = ks.callbacks.ReduceLROnPlateau(monitor='loss', min_lr=1e-5, factor=0.5, patience=3, verbose=1, mode='min')\n",
        "model_checkpoint_callback = tf.keras.callbacks.ModelCheckpoint(filepath=checkpoint_filepath, monitor=monitor, mode='min', save_weights_only=True, save_best_only=True)\n",
        "\n",
        "callbacks = [\n",
        "    #reduce_on_plateau_callback,\n",
        "    #early_stopping_callback,\n",
        "    model_checkpoint_callback,\n",
        "]\n",
        "\n",
        "# Training\n",
        "#unet_model.load_weights(\"unet_model_weights.h5\")\n",
        "\n",
        "history_unet = unet_model.fit(train_generator, validation_data = val_generator,\n",
        "              epochs=N_EPOCHS,\n",
        "              steps_per_epoch = STEPS_PER_EPOCH,\n",
        "              validation_steps = VALIDATION_STEPS,\n",
        "              callbacks = callbacks)"
      ],
      "metadata": {
        "colab": {
          "base_uri": "https://localhost:8080/"
        },
        "id": "PiEoW8ul_kU2",
        "outputId": "668cc3d5-4b09-4a85-98ad-1d93f779aff6"
      },
      "execution_count": null,
      "outputs": [
        {
          "output_type": "stream",
          "name": "stdout",
          "text": [
            "Epoch 1/50\n",
            "3000/3000 [==============================] - 103s 34ms/step - loss: 0.1380 - mse: 0.0054 - val_loss: 0.1236 - val_mse: 0.0027\n",
            "Epoch 2/50\n",
            "3000/3000 [==============================] - 100s 33ms/step - loss: 0.1197 - mse: 0.0014 - val_loss: 0.1209 - val_mse: 0.0017\n",
            "Epoch 3/50\n",
            "3000/3000 [==============================] - 100s 33ms/step - loss: 0.1185 - mse: 0.0011 - val_loss: 0.1181 - val_mse: 9.9562e-04\n",
            "Epoch 4/50\n",
            "3000/3000 [==============================] - 100s 33ms/step - loss: 0.1180 - mse: 9.5020e-04 - val_loss: 0.1178 - val_mse: 8.3696e-04\n",
            "Epoch 5/50\n",
            "3000/3000 [==============================] - 101s 34ms/step - loss: 0.1176 - mse: 8.4721e-04 - val_loss: 0.1171 - val_mse: 7.6230e-04\n",
            "Epoch 6/50\n",
            "3000/3000 [==============================] - 100s 33ms/step - loss: 0.1175 - mse: 7.9894e-04 - val_loss: 0.1189 - val_mse: 0.0011\n",
            "Epoch 7/50\n",
            "3000/3000 [==============================] - 100s 33ms/step - loss: 0.1171 - mse: 7.3096e-04 - val_loss: 0.1171 - val_mse: 6.2323e-04\n",
            "Epoch 8/50\n",
            "3000/3000 [==============================] - 101s 34ms/step - loss: 0.1171 - mse: 7.0590e-04 - val_loss: 0.1167 - val_mse: 6.7366e-04\n",
            "Epoch 9/50\n",
            "3000/3000 [==============================] - 102s 34ms/step - loss: 0.1170 - mse: 6.8096e-04 - val_loss: 0.1168 - val_mse: 6.2835e-04\n",
            "Epoch 10/50\n",
            "3000/3000 [==============================] - 101s 34ms/step - loss: 0.1166 - mse: 6.3933e-04 - val_loss: 0.1165 - val_mse: 6.3289e-04\n",
            "Epoch 11/50\n",
            "3000/3000 [==============================] - 101s 34ms/step - loss: 0.1167 - mse: 6.4440e-04 - val_loss: 0.1164 - val_mse: 5.6747e-04\n",
            "Epoch 12/50\n",
            "3000/3000 [==============================] - 101s 34ms/step - loss: 0.1165 - mse: 6.0190e-04 - val_loss: 0.1166 - val_mse: 5.6202e-04\n",
            "Epoch 13/50\n",
            "3000/3000 [==============================] - 101s 34ms/step - loss: 0.1165 - mse: 5.9008e-04 - val_loss: 0.1166 - val_mse: 5.5908e-04\n",
            "Epoch 14/50\n",
            "3000/3000 [==============================] - 101s 34ms/step - loss: 0.1167 - mse: 5.9115e-04 - val_loss: 0.1168 - val_mse: 5.3234e-04\n",
            "Epoch 15/50\n",
            "3000/3000 [==============================] - 100s 33ms/step - loss: 0.1164 - mse: 5.6124e-04 - val_loss: 0.1160 - val_mse: 5.2317e-04\n",
            "Epoch 16/50\n",
            "3000/3000 [==============================] - 101s 34ms/step - loss: 0.1166 - mse: 5.5592e-04 - val_loss: 0.1163 - val_mse: 5.1864e-04\n",
            "Epoch 17/50\n",
            "3000/3000 [==============================] - 100s 33ms/step - loss: 0.1163 - mse: 5.3992e-04 - val_loss: 0.1163 - val_mse: 5.2810e-04\n",
            "Epoch 18/50\n",
            "3000/3000 [==============================] - 101s 34ms/step - loss: 0.1164 - mse: 5.3664e-04 - val_loss: 0.1164 - val_mse: 5.0438e-04\n",
            "Epoch 19/50\n",
            "3000/3000 [==============================] - 101s 34ms/step - loss: 0.1162 - mse: 5.2265e-04 - val_loss: 0.1162 - val_mse: 4.8049e-04\n",
            "Epoch 20/50\n",
            "3000/3000 [==============================] - 103s 34ms/step - loss: 0.1161 - mse: 5.1844e-04 - val_loss: 0.1164 - val_mse: 4.8892e-04\n",
            "Epoch 21/50\n",
            "3000/3000 [==============================] - 101s 34ms/step - loss: 0.1163 - mse: 5.2238e-04 - val_loss: 0.1155 - val_mse: 4.8127e-04\n",
            "Epoch 22/50\n",
            "3000/3000 [==============================] - 101s 34ms/step - loss: 0.1163 - mse: 5.0605e-04 - val_loss: 0.1168 - val_mse: 5.1396e-04\n",
            "Epoch 23/50\n",
            "3000/3000 [==============================] - 103s 34ms/step - loss: 0.1163 - mse: 4.9739e-04 - val_loss: 0.1162 - val_mse: 4.8751e-04\n",
            "Epoch 24/50\n",
            "3000/3000 [==============================] - 101s 34ms/step - loss: 0.1163 - mse: 4.9715e-04 - val_loss: 0.1157 - val_mse: 4.6937e-04\n",
            "Epoch 25/50\n",
            "3000/3000 [==============================] - 101s 34ms/step - loss: 0.1162 - mse: 4.9367e-04 - val_loss: 0.1164 - val_mse: 4.7775e-04\n",
            "Epoch 26/50\n",
            "3000/3000 [==============================] - 101s 34ms/step - loss: 0.1162 - mse: 4.9272e-04 - val_loss: 0.1160 - val_mse: 4.5066e-04\n",
            "Epoch 27/50\n",
            "3000/3000 [==============================] - 100s 33ms/step - loss: 0.1162 - mse: 4.7703e-04 - val_loss: 0.1163 - val_mse: 4.6713e-04\n",
            "Epoch 28/50\n",
            "3000/3000 [==============================] - 101s 34ms/step - loss: 0.1162 - mse: 5.0133e-04 - val_loss: 0.1166 - val_mse: 5.2637e-04\n",
            "Epoch 29/50\n",
            "3000/3000 [==============================] - 100s 33ms/step - loss: 0.1160 - mse: 4.7495e-04 - val_loss: 0.1162 - val_mse: 4.4289e-04\n",
            "Epoch 30/50\n",
            "3000/3000 [==============================] - 101s 34ms/step - loss: 0.1163 - mse: 4.7451e-04 - val_loss: 0.1161 - val_mse: 4.3910e-04\n",
            "Epoch 31/50\n",
            "3000/3000 [==============================] - 101s 34ms/step - loss: 0.1161 - mse: 4.6570e-04 - val_loss: 0.1157 - val_mse: 4.4389e-04\n",
            "Epoch 32/50\n",
            "3000/3000 [==============================] - 101s 34ms/step - loss: 0.1162 - mse: 4.6327e-04 - val_loss: 0.1162 - val_mse: 4.5025e-04\n",
            "Epoch 33/50\n",
            "3000/3000 [==============================] - 103s 34ms/step - loss: 0.1161 - mse: 4.5704e-04 - val_loss: 0.1154 - val_mse: 4.6146e-04\n",
            "Epoch 34/50\n",
            "3000/3000 [==============================] - 101s 34ms/step - loss: 0.1160 - mse: 4.5995e-04 - val_loss: 0.1163 - val_mse: 4.6797e-04\n",
            "Epoch 35/50\n",
            "3000/3000 [==============================] - 101s 34ms/step - loss: 0.1161 - mse: 4.5530e-04 - val_loss: 0.1158 - val_mse: 4.4078e-04\n",
            "Epoch 36/50\n",
            "3000/3000 [==============================] - 101s 34ms/step - loss: 0.1160 - mse: 4.5413e-04 - val_loss: 0.1162 - val_mse: 4.4008e-04\n",
            "Epoch 37/50\n",
            "3000/3000 [==============================] - 101s 34ms/step - loss: 0.1159 - mse: 4.5262e-04 - val_loss: 0.1163 - val_mse: 4.2345e-04\n",
            "Epoch 38/50\n",
            "3000/3000 [==============================] - 101s 34ms/step - loss: 0.1162 - mse: 4.4584e-04 - val_loss: 0.1164 - val_mse: 4.3170e-04\n",
            "Epoch 39/50\n",
            "3000/3000 [==============================] - 101s 34ms/step - loss: 0.1161 - mse: 4.5140e-04 - val_loss: 0.1159 - val_mse: 4.2901e-04\n",
            "Epoch 40/50\n",
            "3000/3000 [==============================] - 101s 34ms/step - loss: 0.1160 - mse: 4.3980e-04 - val_loss: 0.1160 - val_mse: 4.3022e-04\n",
            "Epoch 41/50\n",
            "3000/3000 [==============================] - 101s 34ms/step - loss: 0.1160 - mse: 4.4912e-04 - val_loss: 0.1164 - val_mse: 4.3787e-04\n",
            "Epoch 42/50\n",
            "3000/3000 [==============================] - 101s 34ms/step - loss: 0.1161 - mse: 4.3704e-04 - val_loss: 0.1160 - val_mse: 4.1906e-04\n",
            "Epoch 43/50\n",
            "3000/3000 [==============================] - 101s 34ms/step - loss: 0.1160 - mse: 4.3013e-04 - val_loss: 0.1161 - val_mse: 4.3894e-04\n",
            "Epoch 44/50\n",
            "3000/3000 [==============================] - 101s 34ms/step - loss: 0.1158 - mse: 4.3366e-04 - val_loss: 0.1164 - val_mse: 4.0551e-04\n",
            "Epoch 45/50\n",
            "3000/3000 [==============================] - 101s 34ms/step - loss: 0.1160 - mse: 4.3016e-04 - val_loss: 0.1160 - val_mse: 4.1814e-04\n",
            "Epoch 46/50\n",
            "3000/3000 [==============================] - 101s 34ms/step - loss: 0.1159 - mse: 4.2529e-04 - val_loss: 0.1162 - val_mse: 4.0455e-04\n",
            "Epoch 47/50\n",
            "3000/3000 [==============================] - 101s 34ms/step - loss: 0.1160 - mse: 4.2437e-04 - val_loss: 0.1162 - val_mse: 4.0574e-04\n",
            "Epoch 48/50\n",
            "3000/3000 [==============================] - 99s 33ms/step - loss: 0.1159 - mse: 4.1852e-04 - val_loss: 0.1158 - val_mse: 3.9874e-04\n",
            "Epoch 49/50\n",
            "3000/3000 [==============================] - 98s 33ms/step - loss: 0.1159 - mse: 4.2096e-04 - val_loss: 0.1156 - val_mse: 4.1513e-04\n",
            "Epoch 50/50\n",
            "3000/3000 [==============================] - 101s 34ms/step - loss: 0.1160 - mse: 4.2667e-04 - val_loss: 0.1166 - val_mse: 5.6211e-04\n"
          ]
        }
      ]
    },
    {
      "cell_type": "code",
      "source": [
        "unet_model.save_weights(\"unet_model_weights.h5\")\n",
        "unet_model.save(\"unet_model.h5\")"
      ],
      "metadata": {
        "id": "xKP-E_ps_nqK"
      },
      "execution_count": null,
      "outputs": []
    },
    {
      "cell_type": "code",
      "source": [
        "display_history(history_unet)"
      ],
      "metadata": {
        "id": "7Kgo6oRp_psa",
        "colab": {
          "base_uri": "https://localhost:8080/",
          "height": 573
        },
        "outputId": "7e9eb653-58eb-4a36-8e05-b7338d3abcfe"
      },
      "execution_count": null,
      "outputs": [
        {
          "output_type": "display_data",
          "data": {
            "text/plain": [
              "<Figure size 432x288 with 1 Axes>"
            ],
            "image/png": "[encoded data removed]"
          },
          "metadata": {
            "needs_background": "light"
          }
        },
        {
          "output_type": "display_data",
          "data": {
            "text/plain": [
              "<Figure size 432x288 with 1 Axes>"
            ],
            "image/png": "[encoded data removed]"
          },
          "metadata": {
            "needs_background": "light"
          }
        }
      ]
    },
    {
      "cell_type": "markdown",
      "source": [
        "#score\n",
        "after the same amounts of epochs, this unet_model performs better than the basic semi_siamese model."
      ],
      "metadata": {
        "id": "8qrCKS5mBSkm"
      }
    },
    {
      "cell_type": "code",
      "source": [
        "unet_model.load_weights(\"bestunet/ckpt/bestweights.h5\")\n",
        "scores = unet_model.evaluate(test_generator, steps = 315)\n",
        "print(scores[1])"
      ],
      "metadata": {
        "id": "Q3RoTcxB_rFZ",
        "colab": {
          "base_uri": "https://localhost:8080/"
        },
        "outputId": "be24e7f8-d5eb-4015-a523-cff412cadd6c"
      },
      "execution_count": null,
      "outputs": [
        {
          "output_type": "stream",
          "name": "stdout",
          "text": [
            "315/315 [==============================] - 3s 11ms/step - loss: 0.1165 - mse: 4.0132e-04\n",
            "0.0004013174620922655\n"
          ]
        }
      ]
    },
    {
      "cell_type": "markdown",
      "source": [
        "the model is evaluated 10 times, using 20000 images each (batchsize of 64 x 315 steps per epoch = 20160 images)"
      ],
      "metadata": {
        "id": "5Xcf5uPdr6o2"
      }
    },
    {
      "cell_type": "code",
      "source": [
        "mse_arr = np.zeros(10)\n",
        "\n",
        "for i in range(10):\n",
        "  scores = unet_model.evaluate(test_generator, steps = 315)\n",
        "  print(scores[1])\n",
        "  mse_arr[i] = scores[1]"
      ],
      "metadata": {
        "id": "FWPO889v_sdC",
        "colab": {
          "base_uri": "https://localhost:8080/"
        },
        "outputId": "17935bdb-aa92-48ca-a0e3-53037b10e9f5"
      },
      "execution_count": null,
      "outputs": [
        {
          "output_type": "stream",
          "name": "stdout",
          "text": [
            "315/315 [==============================] - 4s 12ms/step - loss: 0.1164 - mse: 4.0499e-04\n",
            "0.00040498640737496316\n",
            "315/315 [==============================] - 3s 11ms/step - loss: 0.1163 - mse: 4.0534e-04\n",
            "0.0004053361772093922\n",
            "315/315 [==============================] - 3s 11ms/step - loss: 0.1166 - mse: 4.0391e-04\n",
            "0.0004039072373416275\n",
            "315/315 [==============================] - 3s 11ms/step - loss: 0.1165 - mse: 4.0533e-04\n",
            "0.000405333616072312\n",
            "315/315 [==============================] - 3s 11ms/step - loss: 0.1164 - mse: 4.0588e-04\n",
            "0.0004058793419972062\n",
            "315/315 [==============================] - 3s 11ms/step - loss: 0.1165 - mse: 4.0163e-04\n",
            "0.00040162791265174747\n",
            "315/315 [==============================] - 3s 11ms/step - loss: 0.1166 - mse: 4.0428e-04\n",
            "0.0004042813670821488\n",
            "315/315 [==============================] - 3s 11ms/step - loss: 0.1166 - mse: 4.0434e-04\n",
            "0.0004043426306452602\n",
            "315/315 [==============================] - 3s 11ms/step - loss: 0.1169 - mse: 4.0947e-04\n",
            "0.00040947122033685446\n",
            "315/315 [==============================] - 3s 11ms/step - loss: 0.1167 - mse: 4.0457e-04\n",
            "0.0004045687092002481\n"
          ]
        }
      ]
    },
    {
      "cell_type": "code",
      "source": [
        "standard_deviation=np.std(mse_arr, dtype=np.double) \n",
        "print(\"standard deviation: \",standard_deviation)\n",
        "mean = np.mean(mse_arr, dtype=np.float32)\n",
        "print(\"mean: \", mean)"
      ],
      "metadata": {
        "colab": {
          "base_uri": "https://localhost:8080/"
        },
        "id": "s84HiqRkt8sx",
        "outputId": "5da714c6-ec8d-4126-8d0d-28249f2a33f1"
      },
      "execution_count": null,
      "outputs": [
        {
          "output_type": "stream",
          "name": "stdout",
          "text": [
            "standard deviation:  1.8623155842606868e-06\n",
            "mean:  0.00040497346\n"
          ]
        }
      ]
    },
    {
      "cell_type": "code",
      "source": [
        "test_size = 2\n",
        "x_test = np.zeros([test_size, 32, 32])\n",
        "y_test = np.zeros([test_size, 32, 64])\n",
        "for j in range(test_size) :\n",
        "  x_test[j], y_test[j] = next(test_generator1)\n",
        "  y_pred = unet_model.predict(x_test)"
      ],
      "metadata": {
        "id": "MKyIrl_6uE5H"
      },
      "execution_count": null,
      "outputs": []
    },
    {
      "cell_type": "code",
      "source": [
        "y_pred = unet_model.predict(x_test[:1])\n",
        "\n",
        "show(x_test[0, :, :], y_test[0, :, :], title='Original')\n",
        "show(x_test[0, :, :], y_pred[0, :, :, 0], title='Predicted')"
      ],
      "metadata": {
        "id": "MFyn1H7N_yFA",
        "colab": {
          "base_uri": "https://localhost:8080/",
          "height": 619
        },
        "outputId": "5ece70be-7223-44dc-eb7e-53a31771e5db"
      },
      "execution_count": null,
      "outputs": [
        {
          "output_type": "display_data",
          "data": {
            "text/plain": [
              "<Figure size 720x360 with 2 Axes>"
            ],
            "image/png": "[encoded data removed]"
          },
          "metadata": {
            "needs_background": "light"
          }
        },
        {
          "output_type": "display_data",
          "data": {
            "text/plain": [
              "<Figure size 720x360 with 2 Axes>"
            ],
            "image/png": "[encoded data removed]"
          },
          "metadata": {
            "needs_background": "light"
          }
        }
      ]
    },
    {
      "cell_type": "markdown",
      "source": [
        "#extensive training\n",
        "while after 50 epochs the score is already quite good, the model can still be trained. Hence why I did some additional training to reach the best score possible, since the model does not stop learning after only 50 epochs, but can learn for many more."
      ],
      "metadata": {
        "id": "DS54K2uLvhpB"
      }
    },
    {
      "cell_type": "code",
      "source": [
        "N_EPOCHS = 100\n",
        "STEPS_PER_EPOCH = 3000\n",
        "VALIDATION_STEPS = 300\n",
        "\n",
        "monitor = 'val_mse'\n",
        "working_dir = 'bestunetextensive'\n",
        "checkpoint_dir = os.path.join(working_dir, 'ckpt')\n",
        "if not os.path.exists(checkpoint_dir):\n",
        "    os.makedirs(checkpoint_dir)\n",
        "checkpoint_filepath = os.path.join(checkpoint_dir, 'bestweightsExtensive.h5')\n",
        "\n",
        "#early_stopping_callback = ks.callbacks.EarlyStopping(monitor=monitor, patience=5, verbose=1, mode='min', restore_best_weights=True)\n",
        "#reduce_on_plateau_callback = ks.callbacks.ReduceLROnPlateau(monitor='loss', min_lr=1e-5, factor=0.5, patience=3, verbose=1, mode='min')\n",
        "model_checkpoint_callback = tf.keras.callbacks.ModelCheckpoint(filepath=checkpoint_filepath, monitor=monitor, mode='min', save_weights_only=True, save_best_only=True)\n",
        "\n",
        "callbacks = [\n",
        "    #reduce_on_plateau_callback,\n",
        "    #early_stopping_callback,\n",
        "    model_checkpoint_callback,\n",
        "]\n",
        "\n",
        "# Training\n",
        "unet_model.load_weights(\"bestunet/ckpt/bestweights.h5\")\n",
        "\n",
        "history_unet_extensive = unet_model.fit(train_generator, validation_data = val_generator,\n",
        "              epochs=N_EPOCHS,\n",
        "              steps_per_epoch = STEPS_PER_EPOCH,\n",
        "              validation_steps = VALIDATION_STEPS,\n",
        "              callbacks = callbacks)"
      ],
      "metadata": {
        "colab": {
          "base_uri": "https://localhost:8080/"
        },
        "id": "ov1AyDPlvL3A",
        "outputId": "84ea471a-d6ae-41b9-8d32-10b2a0d67ede"
      },
      "execution_count": null,
      "outputs": [
        {
          "output_type": "stream",
          "name": "stdout",
          "text": [
            "Epoch 1/100\n",
            "3000/3000 [==============================] - 106s 34ms/step - loss: 0.1160 - mse: 4.2350e-04 - val_loss: 0.1156 - val_mse: 4.0742e-04\n",
            "Epoch 2/100\n",
            "3000/3000 [==============================] - 103s 34ms/step - loss: 0.1160 - mse: 4.2241e-04 - val_loss: 0.1155 - val_mse: 4.0524e-04\n",
            "Epoch 3/100\n",
            "3000/3000 [==============================] - 103s 34ms/step - loss: 0.1159 - mse: 4.1535e-04 - val_loss: 0.1157 - val_mse: 4.0904e-04\n",
            "Epoch 4/100\n",
            "3000/3000 [==============================] - 103s 34ms/step - loss: 0.1160 - mse: 4.1468e-04 - val_loss: 0.1153 - val_mse: 3.9920e-04\n",
            "Epoch 5/100\n",
            "3000/3000 [==============================] - 103s 34ms/step - loss: 0.1161 - mse: 4.1330e-04 - val_loss: 0.1161 - val_mse: 3.9606e-04\n",
            "Epoch 6/100\n",
            "3000/3000 [==============================] - 103s 34ms/step - loss: 0.1159 - mse: 4.1854e-04 - val_loss: 0.1157 - val_mse: 3.9652e-04\n",
            "Epoch 7/100\n",
            "3000/3000 [==============================] - 105s 35ms/step - loss: 0.1158 - mse: 4.0989e-04 - val_loss: 0.1163 - val_mse: 4.0918e-04\n",
            "Epoch 8/100\n",
            "3000/3000 [==============================] - 103s 34ms/step - loss: 0.1158 - mse: 4.1285e-04 - val_loss: 0.1162 - val_mse: 3.9355e-04\n",
            "Epoch 9/100\n",
            "3000/3000 [==============================] - 103s 34ms/step - loss: 0.1158 - mse: 4.0737e-04 - val_loss: 0.1161 - val_mse: 4.0495e-04\n",
            "Epoch 10/100\n",
            "3000/3000 [==============================] - 103s 34ms/step - loss: 0.1159 - mse: 4.0747e-04 - val_loss: 0.1155 - val_mse: 4.1279e-04\n",
            "Epoch 11/100\n",
            "3000/3000 [==============================] - 102s 34ms/step - loss: 0.1159 - mse: 4.0901e-04 - val_loss: 0.1163 - val_mse: 3.8285e-04\n",
            "Epoch 12/100\n",
            "3000/3000 [==============================] - 102s 34ms/step - loss: 0.1158 - mse: 4.0323e-04 - val_loss: 0.1162 - val_mse: 4.2247e-04\n",
            "Epoch 13/100\n",
            "3000/3000 [==============================] - 103s 34ms/step - loss: 0.1160 - mse: 4.0645e-04 - val_loss: 0.1160 - val_mse: 4.1368e-04\n",
            "Epoch 14/100\n",
            "3000/3000 [==============================] - 104s 35ms/step - loss: 0.1158 - mse: 4.0285e-04 - val_loss: 0.1156 - val_mse: 3.8264e-04\n",
            "Epoch 15/100\n",
            "3000/3000 [==============================] - 102s 34ms/step - loss: 0.1159 - mse: 4.0342e-04 - val_loss: 0.1159 - val_mse: 3.8428e-04\n",
            "Epoch 16/100\n",
            "3000/3000 [==============================] - 102s 34ms/step - loss: 0.1159 - mse: 4.0360e-04 - val_loss: 0.1156 - val_mse: 3.8502e-04\n",
            "Epoch 17/100\n",
            "3000/3000 [==============================] - 103s 34ms/step - loss: 0.1159 - mse: 3.9944e-04 - val_loss: 0.1155 - val_mse: 3.7778e-04\n",
            "Epoch 18/100\n",
            "3000/3000 [==============================] - 103s 34ms/step - loss: 0.1158 - mse: 4.0383e-04 - val_loss: 0.1162 - val_mse: 4.0050e-04\n",
            "Epoch 19/100\n",
            "3000/3000 [==============================] - 103s 34ms/step - loss: 0.1159 - mse: 3.9508e-04 - val_loss: 0.1159 - val_mse: 3.8058e-04\n",
            "Epoch 20/100\n",
            "3000/3000 [==============================] - 102s 34ms/step - loss: 0.1159 - mse: 3.9576e-04 - val_loss: 0.1159 - val_mse: 3.8637e-04\n",
            "Epoch 21/100\n",
            "3000/3000 [==============================] - 103s 34ms/step - loss: 0.1158 - mse: 3.9751e-04 - val_loss: 0.1156 - val_mse: 3.8212e-04\n",
            "Epoch 22/100\n",
            "3000/3000 [==============================] - 103s 34ms/step - loss: 0.1159 - mse: 4.0470e-04 - val_loss: 0.1157 - val_mse: 3.6841e-04\n",
            "Epoch 23/100\n",
            "3000/3000 [==============================] - 102s 34ms/step - loss: 0.1157 - mse: 3.9061e-04 - val_loss: 0.1161 - val_mse: 3.9457e-04\n",
            "Epoch 24/100\n",
            "3000/3000 [==============================] - 103s 34ms/step - loss: 0.1157 - mse: 3.9606e-04 - val_loss: 0.1165 - val_mse: 3.8860e-04\n",
            "Epoch 25/100\n",
            "3000/3000 [==============================] - 105s 35ms/step - loss: 0.1158 - mse: 3.9806e-04 - val_loss: 0.1159 - val_mse: 3.8562e-04\n",
            "Epoch 26/100\n",
            "3000/3000 [==============================] - 102s 34ms/step - loss: 0.1158 - mse: 3.9854e-04 - val_loss: 0.1156 - val_mse: 4.1771e-04\n",
            "Epoch 27/100\n",
            "3000/3000 [==============================] - 102s 34ms/step - loss: 0.1158 - mse: 3.9066e-04 - val_loss: 0.1159 - val_mse: 3.7289e-04\n",
            "Epoch 28/100\n",
            "3000/3000 [==============================] - 102s 34ms/step - loss: 0.1158 - mse: 3.8938e-04 - val_loss: 0.1158 - val_mse: 3.8858e-04\n",
            "Epoch 29/100\n",
            "3000/3000 [==============================] - 102s 34ms/step - loss: 0.1159 - mse: 3.8903e-04 - val_loss: 0.1158 - val_mse: 3.9412e-04\n",
            "Epoch 30/100\n",
            "3000/3000 [==============================] - 102s 34ms/step - loss: 0.1159 - mse: 3.9015e-04 - val_loss: 0.1153 - val_mse: 3.8025e-04\n",
            "Epoch 31/100\n",
            "3000/3000 [==============================] - 104s 35ms/step - loss: 0.1159 - mse: 3.8998e-04 - val_loss: 0.1155 - val_mse: 3.7325e-04\n",
            "Epoch 32/100\n",
            "3000/3000 [==============================] - 102s 34ms/step - loss: 0.1158 - mse: 3.8428e-04 - val_loss: 0.1163 - val_mse: 3.8656e-04\n",
            "Epoch 33/100\n",
            "3000/3000 [==============================] - 102s 34ms/step - loss: 0.1158 - mse: 3.8560e-04 - val_loss: 0.1162 - val_mse: 3.6967e-04\n",
            "Epoch 34/100\n",
            "3000/3000 [==============================] - 102s 34ms/step - loss: 0.1160 - mse: 3.8475e-04 - val_loss: 0.1156 - val_mse: 3.6522e-04\n",
            "Epoch 35/100\n",
            "3000/3000 [==============================] - 102s 34ms/step - loss: 0.1157 - mse: 3.9941e-04 - val_loss: 0.1162 - val_mse: 3.8185e-04\n",
            "Epoch 36/100\n",
            "3000/3000 [==============================] - 102s 34ms/step - loss: 0.1157 - mse: 3.8400e-04 - val_loss: 0.1157 - val_mse: 3.6693e-04\n",
            "Epoch 37/100\n",
            "3000/3000 [==============================] - 102s 34ms/step - loss: 0.1158 - mse: 3.8091e-04 - val_loss: 0.1155 - val_mse: 3.8085e-04\n",
            "Epoch 38/100\n",
            "3000/3000 [==============================] - 102s 34ms/step - loss: 0.1157 - mse: 3.8382e-04 - val_loss: 0.1159 - val_mse: 3.6874e-04\n",
            "Epoch 39/100\n",
            "3000/3000 [==============================] - 102s 34ms/step - loss: 0.1158 - mse: 3.8322e-04 - val_loss: 0.1157 - val_mse: 3.6899e-04\n",
            "Epoch 40/100\n",
            "3000/3000 [==============================] - 102s 34ms/step - loss: 0.1159 - mse: 3.8077e-04 - val_loss: 0.1156 - val_mse: 3.8767e-04\n",
            "Epoch 41/100\n",
            "3000/3000 [==============================] - 102s 34ms/step - loss: 0.1159 - mse: 3.8258e-04 - val_loss: 0.1158 - val_mse: 3.7131e-04\n",
            "Epoch 42/100\n",
            "3000/3000 [==============================] - 102s 34ms/step - loss: 0.1159 - mse: 3.8494e-04 - val_loss: 0.1157 - val_mse: 3.8659e-04\n",
            "Epoch 43/100\n",
            "3000/3000 [==============================] - 102s 34ms/step - loss: 0.1157 - mse: 3.7885e-04 - val_loss: 0.1157 - val_mse: 3.6707e-04\n",
            "Epoch 44/100\n",
            "3000/3000 [==============================] - 102s 34ms/step - loss: 0.1158 - mse: 3.7931e-04 - val_loss: 0.1158 - val_mse: 3.8024e-04\n",
            "Epoch 45/100\n",
            "3000/3000 [==============================] - 102s 34ms/step - loss: 0.1158 - mse: 3.7904e-04 - val_loss: 0.1164 - val_mse: 3.7969e-04\n",
            "Epoch 46/100\n",
            "3000/3000 [==============================] - 102s 34ms/step - loss: 0.1157 - mse: 3.7627e-04 - val_loss: 0.1157 - val_mse: 3.7369e-04\n",
            "Epoch 47/100\n",
            "3000/3000 [==============================] - 103s 34ms/step - loss: 0.1157 - mse: 3.7823e-04 - val_loss: 0.1158 - val_mse: 3.6700e-04\n",
            "Epoch 48/100\n",
            "3000/3000 [==============================] - 103s 34ms/step - loss: 0.1158 - mse: 3.7695e-04 - val_loss: 0.1155 - val_mse: 3.6187e-04\n",
            "Epoch 49/100\n",
            "3000/3000 [==============================] - 102s 34ms/step - loss: 0.1157 - mse: 3.7719e-04 - val_loss: 0.1157 - val_mse: 3.7007e-04\n",
            "Epoch 50/100\n",
            "3000/3000 [==============================] - 102s 34ms/step - loss: 0.1159 - mse: 3.7609e-04 - val_loss: 0.1153 - val_mse: 3.6947e-04\n",
            "Epoch 51/100\n",
            "3000/3000 [==============================] - 103s 34ms/step - loss: 0.1159 - mse: 3.7719e-04 - val_loss: 0.1151 - val_mse: 3.6090e-04\n",
            "Epoch 52/100\n",
            "3000/3000 [==============================] - 102s 34ms/step - loss: 0.1158 - mse: 3.8777e-04 - val_loss: 0.1159 - val_mse: 3.5759e-04\n",
            "Epoch 53/100\n",
            "3000/3000 [==============================] - 102s 34ms/step - loss: 0.1159 - mse: 3.7074e-04 - val_loss: 0.1156 - val_mse: 3.5969e-04\n",
            "Epoch 54/100\n",
            "3000/3000 [==============================] - 105s 35ms/step - loss: 0.1157 - mse: 3.7412e-04 - val_loss: 0.1156 - val_mse: 3.6834e-04\n",
            "Epoch 55/100\n",
            "3000/3000 [==============================] - 102s 34ms/step - loss: 0.1158 - mse: 3.7208e-04 - val_loss: 0.1156 - val_mse: 3.5111e-04\n",
            "Epoch 56/100\n",
            "3000/3000 [==============================] - 103s 34ms/step - loss: 0.1158 - mse: 3.7529e-04 - val_loss: 0.1162 - val_mse: 3.6408e-04\n",
            "Epoch 57/100\n",
            "3000/3000 [==============================] - 102s 34ms/step - loss: 0.1157 - mse: 3.7408e-04 - val_loss: 0.1158 - val_mse: 3.5200e-04\n",
            "Epoch 58/100\n",
            "3000/3000 [==============================] - 102s 34ms/step - loss: 0.1158 - mse: 3.7139e-04 - val_loss: 0.1156 - val_mse: 3.5439e-04\n",
            "Epoch 59/100\n",
            "3000/3000 [==============================] - 103s 34ms/step - loss: 0.1158 - mse: 3.7226e-04 - val_loss: 0.1156 - val_mse: 3.5995e-04\n",
            "Epoch 60/100\n",
            "3000/3000 [==============================] - 105s 35ms/step - loss: 0.1157 - mse: 3.7331e-04 - val_loss: 0.1154 - val_mse: 3.6194e-04\n",
            "Epoch 61/100\n",
            "3000/3000 [==============================] - 103s 34ms/step - loss: 0.1158 - mse: 3.7307e-04 - val_loss: 0.1158 - val_mse: 3.5404e-04\n",
            "Epoch 62/100\n",
            "3000/3000 [==============================] - 103s 34ms/step - loss: 0.1158 - mse: 3.6956e-04 - val_loss: 0.1155 - val_mse: 3.6093e-04\n",
            "Epoch 63/100\n",
            "3000/3000 [==============================] - 102s 34ms/step - loss: 0.1158 - mse: 3.7195e-04 - val_loss: 0.1152 - val_mse: 3.4807e-04\n",
            "Epoch 64/100\n",
            "3000/3000 [==============================] - 102s 34ms/step - loss: 0.1158 - mse: 3.6949e-04 - val_loss: 0.1157 - val_mse: 3.6547e-04\n",
            "Epoch 65/100\n",
            "3000/3000 [==============================] - 102s 34ms/step - loss: 0.1157 - mse: 3.6917e-04 - val_loss: 0.1157 - val_mse: 3.6413e-04\n",
            "Epoch 66/100\n",
            "3000/3000 [==============================] - 102s 34ms/step - loss: 0.1157 - mse: 3.6831e-04 - val_loss: 0.1153 - val_mse: 3.4861e-04\n",
            "Epoch 67/100\n",
            "3000/3000 [==============================] - 102s 34ms/step - loss: 0.1157 - mse: 3.7020e-04 - val_loss: 0.1155 - val_mse: 3.5722e-04\n",
            "Epoch 68/100\n",
            "3000/3000 [==============================] - 102s 34ms/step - loss: 0.1156 - mse: 3.6613e-04 - val_loss: 0.1160 - val_mse: 3.5433e-04\n",
            "Epoch 69/100\n",
            "3000/3000 [==============================] - 102s 34ms/step - loss: 0.1157 - mse: 3.6825e-04 - val_loss: 0.1158 - val_mse: 3.6592e-04\n",
            "Epoch 70/100\n",
            "3000/3000 [==============================] - 102s 34ms/step - loss: 0.1157 - mse: 3.6525e-04 - val_loss: 0.1152 - val_mse: 3.4801e-04\n",
            "Epoch 71/100\n",
            "3000/3000 [==============================] - 102s 34ms/step - loss: 0.1156 - mse: 3.6714e-04 - val_loss: 0.1160 - val_mse: 3.5747e-04\n",
            "Epoch 72/100\n",
            "3000/3000 [==============================] - 102s 34ms/step - loss: 0.1158 - mse: 3.6692e-04 - val_loss: 0.1160 - val_mse: 3.5015e-04\n",
            "Epoch 73/100\n",
            "3000/3000 [==============================] - 102s 34ms/step - loss: 0.1156 - mse: 3.6524e-04 - val_loss: 0.1156 - val_mse: 3.6001e-04\n",
            "Epoch 74/100\n",
            "3000/3000 [==============================] - 102s 34ms/step - loss: 0.1158 - mse: 3.6586e-04 - val_loss: 0.1158 - val_mse: 3.4531e-04\n",
            "Epoch 75/100\n",
            "3000/3000 [==============================] - 102s 34ms/step - loss: 0.1157 - mse: 3.6574e-04 - val_loss: 0.1154 - val_mse: 3.4348e-04\n",
            "Epoch 76/100\n",
            "3000/3000 [==============================] - 102s 34ms/step - loss: 0.1160 - mse: 3.6461e-04 - val_loss: 0.1153 - val_mse: 3.5181e-04\n",
            "Epoch 77/100\n",
            "3000/3000 [==============================] - 102s 34ms/step - loss: 0.1157 - mse: 3.6498e-04 - val_loss: 0.1157 - val_mse: 3.4948e-04\n",
            "Epoch 78/100\n",
            "3000/3000 [==============================] - 102s 34ms/step - loss: 0.1159 - mse: 3.6500e-04 - val_loss: 0.1159 - val_mse: 3.5365e-04\n",
            "Epoch 79/100\n",
            "3000/3000 [==============================] - 102s 34ms/step - loss: 0.1157 - mse: 3.6383e-04 - val_loss: 0.1162 - val_mse: 3.4646e-04\n",
            "Epoch 80/100\n",
            "3000/3000 [==============================] - 102s 34ms/step - loss: 0.1159 - mse: 3.6247e-04 - val_loss: 0.1155 - val_mse: 3.5361e-04\n",
            "Epoch 81/100\n",
            "3000/3000 [==============================] - 104s 35ms/step - loss: 0.1157 - mse: 3.6246e-04 - val_loss: 0.1161 - val_mse: 3.7221e-04\n",
            "Epoch 82/100\n",
            "3000/3000 [==============================] - 102s 34ms/step - loss: 0.1158 - mse: 3.6502e-04 - val_loss: 0.1155 - val_mse: 3.5212e-04\n",
            "Epoch 83/100\n",
            "3000/3000 [==============================] - 102s 34ms/step - loss: 0.1159 - mse: 3.6763e-04 - val_loss: 0.1155 - val_mse: 3.5450e-04\n",
            "Epoch 84/100\n",
            "3000/3000 [==============================] - 102s 34ms/step - loss: 0.1158 - mse: 3.6058e-04 - val_loss: 0.1159 - val_mse: 3.5009e-04\n",
            "Epoch 85/100\n",
            "3000/3000 [==============================] - 102s 34ms/step - loss: 0.1157 - mse: 3.6037e-04 - val_loss: 0.1160 - val_mse: 3.5093e-04\n",
            "Epoch 86/100\n",
            "3000/3000 [==============================] - 102s 34ms/step - loss: 0.1159 - mse: 3.7295e-04 - val_loss: 0.1155 - val_mse: 3.4639e-04\n",
            "Epoch 87/100\n",
            "3000/3000 [==============================] - 104s 35ms/step - loss: 0.1157 - mse: 3.5944e-04 - val_loss: 0.1157 - val_mse: 3.4654e-04\n",
            "Epoch 88/100\n",
            "3000/3000 [==============================] - 104s 35ms/step - loss: 0.1158 - mse: 3.6179e-04 - val_loss: 0.1155 - val_mse: 3.4584e-04\n",
            "Epoch 89/100\n",
            "3000/3000 [==============================] - 102s 34ms/step - loss: 0.1157 - mse: 3.6250e-04 - val_loss: 0.1158 - val_mse: 3.4187e-04\n",
            "Epoch 90/100\n",
            "3000/3000 [==============================] - 102s 34ms/step - loss: 0.1158 - mse: 3.5905e-04 - val_loss: 0.1158 - val_mse: 3.5167e-04\n",
            "Epoch 91/100\n",
            "3000/3000 [==============================] - 102s 34ms/step - loss: 0.1157 - mse: 3.6015e-04 - val_loss: 0.1163 - val_mse: 3.3962e-04\n",
            "Epoch 92/100\n",
            "3000/3000 [==============================] - 102s 34ms/step - loss: 0.1157 - mse: 3.5881e-04 - val_loss: 0.1156 - val_mse: 3.4737e-04\n",
            "Epoch 93/100\n",
            "3000/3000 [==============================] - 102s 34ms/step - loss: 0.1157 - mse: 3.6351e-04 - val_loss: 0.1155 - val_mse: 3.4277e-04\n",
            "Epoch 94/100\n",
            "3000/3000 [==============================] - 102s 34ms/step - loss: 0.1157 - mse: 3.5891e-04 - val_loss: 0.1153 - val_mse: 3.5019e-04\n",
            "Epoch 95/100\n",
            "3000/3000 [==============================] - 102s 34ms/step - loss: 0.1157 - mse: 3.5872e-04 - val_loss: 0.1154 - val_mse: 3.5247e-04\n",
            "Epoch 96/100\n",
            "3000/3000 [==============================] - 102s 34ms/step - loss: 0.1158 - mse: 3.5861e-04 - val_loss: 0.1158 - val_mse: 3.4694e-04\n",
            "Epoch 97/100\n",
            "3000/3000 [==============================] - 102s 34ms/step - loss: 0.1157 - mse: 3.5592e-04 - val_loss: 0.1159 - val_mse: 3.4498e-04\n",
            "Epoch 98/100\n",
            "3000/3000 [==============================] - 103s 34ms/step - loss: 0.1158 - mse: 3.6451e-04 - val_loss: 0.1158 - val_mse: 3.4623e-04\n",
            "Epoch 99/100\n",
            "3000/3000 [==============================] - 104s 35ms/step - loss: 0.1157 - mse: 3.5743e-04 - val_loss: 0.1152 - val_mse: 3.5005e-04\n",
            "Epoch 100/100\n",
            "3000/3000 [==============================] - 102s 34ms/step - loss: 0.1157 - mse: 3.5854e-04 - val_loss: 0.1158 - val_mse: 3.5380e-04\n"
          ]
        }
      ]
    },
    {
      "cell_type": "code",
      "source": [
        "unet_model.save_weights(\"unet_model_extensive_weights.h5\")\n",
        "unet_model.save(\"unet_model_extensive.h5\")"
      ],
      "metadata": {
        "id": "9uSQCpuZv0XU"
      },
      "execution_count": null,
      "outputs": []
    },
    {
      "cell_type": "markdown",
      "source": [
        "#FINAL SCORE\n",
        "after the additional training of the model, the final result is indeed better because, even if more slowly, the model keeps learning beyond the 50 initial epochs.\n",
        "In this section I show my final results, using the unet_model"
      ],
      "metadata": {
        "id": "79iALBOJBMPi"
      }
    },
    {
      "cell_type": "code",
      "source": [
        "unet_model.load_weights(\"bestunetextensive/ckpt/bestweightsExtensive.h5\")\n",
        "scores = unet_model.evaluate(test_generator, steps = 315)\n",
        "print(scores[1])"
      ],
      "metadata": {
        "id": "A5YHBrWTGdWL",
        "colab": {
          "base_uri": "https://localhost:8080/"
        },
        "outputId": "b26c3e6f-cb78-480a-e760-8a929abfe2b9"
      },
      "execution_count": null,
      "outputs": [
        {
          "output_type": "stream",
          "name": "stdout",
          "text": [
            "315/315 [==============================] - 3s 11ms/step - loss: 0.1163 - mse: 3.4948e-04\n",
            "0.00034947803942486644\n"
          ]
        }
      ]
    },
    {
      "cell_type": "markdown",
      "source": [
        "the model is evaluated 10 times, using 20000 images each (batchsize of 64 x 315 steps per epoch = 20160 images)"
      ],
      "metadata": {
        "id": "3eQVZU5RsuuR"
      }
    },
    {
      "cell_type": "code",
      "source": [
        "mse_arr = np.zeros(10)\n",
        "\n",
        "for i in range(10):\n",
        "  scores = unet_model.evaluate(test_generator, steps = 315)\n",
        "  print(scores[1])\n",
        "  mse_arr[i] = scores[1]"
      ],
      "metadata": {
        "id": "xRPI4_7AGiY3",
        "colab": {
          "base_uri": "https://localhost:8080/"
        },
        "outputId": "54e0320b-7b93-46ef-8356-95b572596a6c"
      },
      "execution_count": null,
      "outputs": [
        {
          "output_type": "stream",
          "name": "stdout",
          "text": [
            "315/315 [==============================] - 3s 11ms/step - loss: 0.1161 - mse: 3.5116e-04\n",
            "0.0003511610848363489\n",
            "315/315 [==============================] - 3s 11ms/step - loss: 0.1162 - mse: 3.5195e-04\n",
            "0.0003519500605762005\n",
            "315/315 [==============================] - 3s 11ms/step - loss: 0.1166 - mse: 3.5077e-04\n",
            "0.00035076873609796166\n",
            "315/315 [==============================] - 3s 11ms/step - loss: 0.1162 - mse: 3.4731e-04\n",
            "0.0003473091055639088\n",
            "315/315 [==============================] - 3s 11ms/step - loss: 0.1164 - mse: 3.5167e-04\n",
            "0.0003516661818139255\n",
            "315/315 [==============================] - 3s 10ms/step - loss: 0.1166 - mse: 3.4812e-04\n",
            "0.00034811929799616337\n",
            "315/315 [==============================] - 3s 11ms/step - loss: 0.1164 - mse: 3.4969e-04\n",
            "0.0003496857243590057\n",
            "315/315 [==============================] - 3s 11ms/step - loss: 0.1168 - mse: 3.5568e-04\n",
            "0.0003556798037607223\n",
            "315/315 [==============================] - 3s 10ms/step - loss: 0.1164 - mse: 3.5111e-04\n",
            "0.000351107883034274\n",
            "315/315 [==============================] - 3s 11ms/step - loss: 0.1161 - mse: 3.5003e-04\n",
            "0.00035003238008357584\n"
          ]
        }
      ]
    },
    {
      "cell_type": "code",
      "source": [
        "standard_deviation=np.std(mse_arr, dtype=np.double) \n",
        "print(\"standard deviation: \", standard_deviation)\n",
        "mean = np.mean(mse_arr, dtype=np.float32)\n",
        "print(\"mean: \", mean)"
      ],
      "metadata": {
        "id": "1XsmXxs6G1vQ",
        "colab": {
          "base_uri": "https://localhost:8080/"
        },
        "outputId": "92fdc87f-82ea-45b2-c59b-41cee12bc314"
      },
      "execution_count": null,
      "outputs": [
        {
          "output_type": "stream",
          "name": "stdout",
          "text": [
            "standard deviation:  2.1745779184893657e-06\n",
            "mean:  0.00035074804\n"
          ]
        }
      ]
    },
    {
      "cell_type": "code",
      "source": [
        "test_size = 2\n",
        "x_test = np.zeros([test_size, 32, 32])\n",
        "y_test = np.zeros([test_size, 32, 64])\n",
        "for j in range(test_size) :\n",
        "  x_test[j], y_test[j] = next(test_generator1)\n",
        "  y_pred = unet_model.predict(x_test)"
      ],
      "metadata": {
        "id": "xxnNd_wKG5HG"
      },
      "execution_count": null,
      "outputs": []
    },
    {
      "cell_type": "code",
      "source": [
        "y_pred = unet_model.predict(x_test[:1])\n",
        "\n",
        "show(x_test[0, :, :], y_test[0, :, :], title='Original')\n",
        "show(x_test[0, :, :], y_pred[0, :, :, 0], title='Predicted')"
      ],
      "metadata": {
        "id": "AhlHuiVDG7EZ",
        "colab": {
          "base_uri": "https://localhost:8080/",
          "height": 619
        },
        "outputId": "f382676d-f62a-43e1-bab7-a06c5a52f83c"
      },
      "execution_count": null,
      "outputs": [
        {
          "output_type": "display_data",
          "data": {
            "text/plain": [
              "<Figure size 720x360 with 2 Axes>"
            ],
            "image/png": "[encoded data removed]"
          },
          "metadata": {
            "needs_background": "light"
          }
        },
        {
          "output_type": "display_data",
          "data": {
            "text/plain": [
              "<Figure size 720x360 with 2 Axes>"
            ],
            "image/png": "[encoded data removed]"
          },
          "metadata": {
            "needs_background": "light"
          }
        }
      ]
    },
    {
      "cell_type": "markdown",
      "source": [
        "**conclusions**\n",
        "\n",
        "the values obtained after training the unet_model are:\n",
        "\n",
        "\n",
        "standard deviation:  2.1745779184893657e-06\n",
        "\n",
        "\n",
        "mean:  0.00035074804"
      ],
      "metadata": {
        "id": "pRNHM_bKs3I9"
      }
    },
    {
      "cell_type": "markdown",
      "source": [
        "TO CLARIFY\n",
        "\n",
        "THE MODEL TO BE EVALUATED IS THE ONE BUILT UNDER THE \"BEST MODEL\" SECTION OF THE NOTEBOOK, USING THE FUNCTION build_unet.\n",
        "\n",
        "THE SCORES ARE SHOWN UNDER THE \"FINAL SCORE\" SECTION OF THE NOTEBOOK."
      ],
      "metadata": {
        "id": "3yTSkVv8urQb"
      }
    }
  ]
}